{
  "nbformat": 4,
  "nbformat_minor": 0,
  "metadata": {
    "colab": {
      "name": "assignment6_RickyGunawan.ipynb",
      "provenance": [],
      "collapsed_sections": []
    },
    "kernelspec": {
      "name": "python3",
      "display_name": "Python 3"
    }
  },
  "cells": [
    {
      "cell_type": "code",
      "metadata": {
        "id": "6JyLCHoI-tPC",
        "colab_type": "code",
        "colab": {}
      },
      "source": [
        "import os\n",
        "import pandas as pd\n",
        "import numpy as np\n",
        "import matplotlib.pyplot as plt\n",
        "import seaborn as sns\n",
        "from sklearn import preprocessing\n",
        "from sklearn.model_selection import train_test_split\n",
        "from sklearn.linear_model import LogisticRegression\n",
        "from sklearn.metrics import f1_score, precision_score, recall_score\n",
        "from sklearn.ensemble import RandomForestClassifier\n",
        "from sklearn.svm import SVC\n",
        "from sklearn.svm import LinearSVC\n",
        "from sklearn.neighbors import KNeighborsClassifier"
      ],
      "execution_count": 41,
      "outputs": []
    },
    {
      "cell_type": "code",
      "metadata": {
        "id": "7kFQ_X1J-zp7",
        "colab_type": "code",
        "colab": {}
      },
      "source": [
        "# os.chdir('/content/drive/My Drive/datasets')\n",
        "os.listdir('.')\n",
        "filename = 'iris.csv'\n",
        "dataset = pd.read_csv(filename)"
      ],
      "execution_count": 4,
      "outputs": []
    },
    {
      "cell_type": "code",
      "metadata": {
        "id": "VgRL7_I0AeQJ",
        "colab_type": "code",
        "colab": {}
      },
      "source": [
        "scaler = preprocessing.StandardScaler()\n",
        "\n",
        "feature_used= dataset.drop(['Id','Species'],axis=1)\n",
        "label =dataset['Species']\n",
        "\n",
        "#normalkan data\n",
        "feature_scaled =scaler.fit_transform(feature_used.values)\n",
        "feature_train, feature_test,label_train, label_test = train_test_split(feature_scaled, label, test_size=0.15,random_state=3) \n",
        "# 85% training, 15% testing\n",
        "# dengan random_state saya setting nilai 10, agar tidak terjadi perubahan"
      ],
      "execution_count": 92,
      "outputs": []
    },
    {
      "cell_type": "markdown",
      "metadata": {
        "id": "4ySpjaYh-bRl",
        "colab_type": "text"
      },
      "source": [
        "# **No. 1 Pergantian RandomForest Estimator**"
      ]
    },
    {
      "cell_type": "code",
      "metadata": {
        "id": "fqXWrzr_8Dph",
        "colab_type": "code",
        "colab": {
          "base_uri": "https://localhost:8080/",
          "height": 221
        },
        "outputId": "38f4ebe0-6466-4077-95be-5f8d66638c1a"
      },
      "source": [
        "estimator=[50,100,200]\n",
        "for index,value in enumerate(estimator):\n",
        "  rf_model = RandomForestClassifier(n_estimators=value, bootstrap=True, max_features = \"sqrt\")\n",
        "  rf_model.fit(feature_train, label_train)\n",
        "  prediction = rf_model.predict(feature_test)\n",
        "  print('Accuracy of Random Forest with estimators {} on test set: {:.2f}'.format(value,rf_model.score(feature_test, label_test)))\n",
        "  print(f1_score(label_test, prediction, average=\"macro\"))\n",
        "  print(precision_score(label_test, prediction, average=\"macro\"))\n",
        "  print(recall_score(label_test, prediction, average=\"macro\"))"
      ],
      "execution_count": 93,
      "outputs": [
        {
          "output_type": "stream",
          "text": [
            "Accuracy of Random Forest with estimators 50 on test set: 1.00\n",
            "1.0\n",
            "1.0\n",
            "1.0\n",
            "Accuracy of Random Forest with estimators 100 on test set: 1.00\n",
            "1.0\n",
            "1.0\n",
            "1.0\n",
            "Accuracy of Random Forest with estimators 200 on test set: 1.00\n",
            "1.0\n",
            "1.0\n",
            "1.0\n"
          ],
          "name": "stdout"
        }
      ]
    },
    {
      "cell_type": "markdown",
      "metadata": {
        "id": "0zW7ajwxDESi",
        "colab_type": "text"
      },
      "source": [
        "Berdasarkan hasil diatas tidak ada perbedaan antara estimator 50,100, dan 200. ini dapat disebabkan karena dataset yang kita gunakan sangat baik sehingga tidak terlihat bias sama sekali. \n",
        "\n",
        "tetapi bila di running berulang-ulang maka estimator 50 akan menunjukan perubahan pada accuracy menjadi 0.95, karena random forest adalah algoritma yang menilai secara random berdasarkan tingkat kedalaman. karena itu untuk estimator 50 masih bisa terjadi perubahan meskipun tidak terlalu signifikan."
      ]
    },
    {
      "cell_type": "markdown",
      "metadata": {
        "id": "-tRL0jpbEQdY",
        "colab_type": "text"
      },
      "source": [
        "# **No. 2 menggunakan Kernel berbeda dalam SVC**"
      ]
    },
    {
      "cell_type": "code",
      "metadata": {
        "id": "mivUlOFcEc9b",
        "colab_type": "code",
        "colab": {
          "base_uri": "https://localhost:8080/",
          "height": 153
        },
        "outputId": "0b737ec5-8539-4409-a189-9ae80289a3b8"
      },
      "source": [
        "kernels=[\"linear\",\"poly\"]\n",
        "for index,value in enumerate(kernels):\n",
        "  svc_classifier = SVC(kernel = value)\n",
        "  svc_classifier.fit(feature_train, label_train)\n",
        "  # prediction\n",
        "  prediction = svc_classifier.predict(feature_test)\n",
        "\n",
        "  #hasil\n",
        "  print('Accuracy of SVC with Kernel {} on test set: {:.2f}'.format(value,svc_classifier.score(feature_test, label_test))) # .score() -> Accuracy\n",
        "  print(f1_score(label_test, prediction, average='macro'))\n",
        "  print(precision_score(label_test, prediction, average='macro'))\n",
        "  print(recall_score(label_test, prediction, average='macro'))"
      ],
      "execution_count": 94,
      "outputs": [
        {
          "output_type": "stream",
          "text": [
            "Accuracy of SVC with Kernel linear on test set: 0.96\n",
            "0.9500891265597149\n",
            "0.9629629629629629\n",
            "0.9444444444444445\n",
            "Accuracy of SVC with Kernel poly on test set: 0.96\n",
            "0.952136752136752\n",
            "0.9523809523809524\n",
            "0.9583333333333334\n"
          ],
          "name": "stdout"
        }
      ]
    },
    {
      "cell_type": "code",
      "metadata": {
        "id": "sA3Iz7ynGBXS",
        "colab_type": "code",
        "colab": {
          "base_uri": "https://localhost:8080/",
          "height": 85
        },
        "outputId": "955bd455-c83d-49dc-97a4-3ed93d6a9a72"
      },
      "source": [
        "linearsvc_classifier = LinearSVC()\n",
        "linearsvc_classifier.fit(feature_train, label_train)\n",
        "# prediction\n",
        "prediction = linearsvc_classifier.predict(feature_test)\n",
        "\n",
        "#hasil\n",
        "print('Accuracy of LinearSVC on test set: {:.2f}'.format(linearsvc_classifier.score(feature_test, label_test))) # .score() -> Accuracy\n",
        "print(f1_score(label_test, prediction, average='macro'))\n",
        "print(precision_score(label_test, prediction, average='macro'))\n",
        "print(recall_score(label_test, prediction, average='macro'))"
      ],
      "execution_count": 95,
      "outputs": [
        {
          "output_type": "stream",
          "text": [
            "Accuracy of LinearSVC on test set: 1.00\n",
            "1.0\n",
            "1.0\n",
            "1.0\n"
          ],
          "name": "stdout"
        }
      ]
    },
    {
      "cell_type": "markdown",
      "metadata": {
        "id": "e-4y29DeG7jB",
        "colab_type": "text"
      },
      "source": [
        "Berdasarkan dari hasil di atas menunjukkan bahwa LinearSVC lebih tinggi di bandingkan SVC dengan kernel linear atau poly. \n",
        "\n",
        "dapat terjadi karena data iris.csv itu sendiri tidak terlalu rumit/complex, feature nya juga bisa di bilang sedikit dan jumlah data juga terbilang sedikit. maka meskipun hasil akurasi masih bisa terbilang tinggi tetapi untuk algoritma yang kompleks sangat tidak cocok dalam data ini yang hanya memiliki sedikit feature. \n",
        "\n",
        "untuk linearSVC meskipun mirip dengan SVC kernel=linear tetapi hasilnya berbeda karena dalam implementasi linearSVC menggunakan library linear sedangkan SVC kernel=linear menggunakan library SVM"
      ]
    },
    {
      "cell_type": "markdown",
      "metadata": {
        "id": "WPOBps88Kah7",
        "colab_type": "text"
      },
      "source": [
        "# **No. 3 KNN dengan nilai k yang berbeda**"
      ]
    },
    {
      "cell_type": "code",
      "metadata": {
        "id": "09mMH6bKKkz4",
        "colab_type": "code",
        "colab": {
          "base_uri": "https://localhost:8080/",
          "height": 561
        },
        "outputId": "f9ca9d13-42d3-41b4-be1e-3af3aae5e055"
      },
      "source": [
        "k=[1,3,5,7,9,11,13,15]\n",
        "for index, value in enumerate(k):\n",
        "  knn = KNeighborsClassifier(value)\n",
        "  knn.fit(feature_train, label_train)\n",
        "  prediction = knn.predict(feature_test)\n",
        "  print('Accuracy of KNN with k={} on test set: {:.2f}'.format(value,knn.score(feature_test, label_test)))\n",
        "  print(f1_score(label_test, prediction, average=\"macro\"))\n",
        "  print(precision_score(label_test, prediction, average=\"macro\"))\n",
        "  print(recall_score(label_test, prediction, average=\"macro\"))"
      ],
      "execution_count": 96,
      "outputs": [
        {
          "output_type": "stream",
          "text": [
            "Accuracy of KNN with k=1 on test set: 0.96\n",
            "0.9500891265597149\n",
            "0.9629629629629629\n",
            "0.9444444444444445\n",
            "Accuracy of KNN with k=3 on test set: 0.96\n",
            "0.9500891265597149\n",
            "0.9629629629629629\n",
            "0.9444444444444445\n",
            "Accuracy of KNN with k=5 on test set: 0.96\n",
            "0.9500891265597149\n",
            "0.9629629629629629\n",
            "0.9444444444444445\n",
            "Accuracy of KNN with k=7 on test set: 0.96\n",
            "0.9500891265597149\n",
            "0.9629629629629629\n",
            "0.9444444444444445\n",
            "Accuracy of KNN with k=9 on test set: 0.96\n",
            "0.9500891265597149\n",
            "0.9629629629629629\n",
            "0.9444444444444445\n",
            "Accuracy of KNN with k=11 on test set: 0.96\n",
            "0.9500891265597149\n",
            "0.9629629629629629\n",
            "0.9444444444444445\n",
            "Accuracy of KNN with k=13 on test set: 0.96\n",
            "0.9500891265597149\n",
            "0.9629629629629629\n",
            "0.9444444444444445\n",
            "Accuracy of KNN with k=15 on test set: 0.96\n",
            "0.9500891265597149\n",
            "0.9629629629629629\n",
            "0.9444444444444445\n"
          ],
          "name": "stdout"
        }
      ]
    },
    {
      "cell_type": "markdown",
      "metadata": {
        "id": "5BZCC5tsOhBW",
        "colab_type": "text"
      },
      "source": [
        "mengapa tidak ada perubahan untuk data ini karena pembagian untuk data training dan testingnya dengan random_state=3 sebaran data nya mungkin mirip sehingga tidak terjadi perubahan maka saya definisikan ulang training set dan testing set nya dengan random_state=10 untuk melihat perubahan seperti di bawah ini:"
      ]
    },
    {
      "cell_type": "code",
      "metadata": {
        "id": "in5k5QQ-PSFT",
        "colab_type": "code",
        "colab": {}
      },
      "source": [
        "feature_train, feature_test,label_train, label_test = train_test_split(feature_scaled, label, test_size=0.15,random_state=10)\n",
        "\n",
        "#setting random state nya menjadi 10"
      ],
      "execution_count": 98,
      "outputs": []
    },
    {
      "cell_type": "code",
      "metadata": {
        "id": "Me9yWMjzPaez",
        "colab_type": "code",
        "colab": {
          "base_uri": "https://localhost:8080/",
          "height": 561
        },
        "outputId": "c346716d-2ed3-4ea8-b1b9-a2a1e42ddd1f"
      },
      "source": [
        "k=[1,3,5,7,9,11,13,15]\n",
        "for index, value in enumerate(k):\n",
        "  knn = KNeighborsClassifier(value)\n",
        "  knn.fit(feature_train, label_train)\n",
        "  prediction = knn.predict(feature_test)\n",
        "  print('Accuracy of KNN with k={} on test set: {:.2f}'.format(value,knn.score(feature_test, label_test)))\n",
        "  print(f1_score(label_test, prediction, average=\"macro\"))\n",
        "  print(precision_score(label_test, prediction, average=\"macro\"))\n",
        "  print(recall_score(label_test, prediction, average=\"macro\"))"
      ],
      "execution_count": 99,
      "outputs": [
        {
          "output_type": "stream",
          "text": [
            "Accuracy of KNN with k=1 on test set: 0.96\n",
            "0.9547511312217195\n",
            "0.9523809523809524\n",
            "0.9629629629629629\n",
            "Accuracy of KNN with k=3 on test set: 0.96\n",
            "0.9547511312217195\n",
            "0.9523809523809524\n",
            "0.9629629629629629\n",
            "Accuracy of KNN with k=5 on test set: 0.96\n",
            "0.9547511312217195\n",
            "0.9523809523809524\n",
            "0.9629629629629629\n",
            "Accuracy of KNN with k=7 on test set: 0.96\n",
            "0.9547511312217195\n",
            "0.9523809523809524\n",
            "0.9629629629629629\n",
            "Accuracy of KNN with k=9 on test set: 0.91\n",
            "0.9107142857142857\n",
            "0.9166666666666666\n",
            "0.9259259259259259\n",
            "Accuracy of KNN with k=11 on test set: 0.91\n",
            "0.9107142857142857\n",
            "0.9166666666666666\n",
            "0.9259259259259259\n",
            "Accuracy of KNN with k=13 on test set: 0.96\n",
            "0.9547511312217195\n",
            "0.9523809523809524\n",
            "0.9629629629629629\n",
            "Accuracy of KNN with k=15 on test set: 1.00\n",
            "1.0\n",
            "1.0\n",
            "1.0\n"
          ],
          "name": "stdout"
        }
      ]
    },
    {
      "cell_type": "markdown",
      "metadata": {
        "id": "hUiuLFOUQRDp",
        "colab_type": "text"
      },
      "source": [
        "maka dapat terlihat perubahan bahwa nilai k=15 itu paling baik dibandingkan k dengan nilai lain pada hasil diatas karena menghasilkan akurasi yang paling tinggi pada dataset tersebut."
      ]
    }
  ]
}